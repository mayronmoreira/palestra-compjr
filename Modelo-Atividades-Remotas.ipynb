{
 "cells": [
  {
   "cell_type": "markdown",
   "metadata": {},
   "source": [
    "# Um modelo matemático para otimizar a sua vida na universidade\n",
    "\n",
    "## Prof. Mayron César O. Moreira \n",
    "\n",
    "**Universidade Federal de Lavras (UFLA)**  \n",
    "**Departamento de Ciência da Computação**  \n",
    "**Lavras, Minas Gerais, Brasil**  \n",
    "\n",
    "*Adaptado da III Semana da Matemática da UFLA (III SEMAT/UFLA)*  \n",
    "*Lavras, MG, Brasil*"
   ]
  },
  {
   "cell_type": "markdown",
   "metadata": {},
   "source": [
    "### Tabela de Horários\n",
    "\n",
    "Por meio de uma planilha, complete sua tabela de horários com as atividades fixas de sua semana. O arquivo se chama **\"Horarios.xlsx\"**, e está no diretório do *notebook* desse curso. Alguns exemplos: $(i)$ os horários que você pretende se dedicar para as suas disciplinas; $(ii)$ horários de atividades recreativas ou esportivas; $(iii)$ reuniões de grupos de estudo, participação em projetos (estágio, IC, empresa Jr.).  \n",
    "\n",
    "Vamos carregar as suas informações através de uma biblioteca do Python denominada *Pandas*. Assim, conseguiremos preencher os parâmetros do modelo matemático. Para padronizar os dados de entrada, insira a o símbolo **D-** antes de todas as disciplinas. Exemplo: **D-GCC218**, ou **D-01**.  "
   ]
  },
  {
   "cell_type": "code",
   "execution_count": 405,
   "metadata": {},
   "outputs": [],
   "source": [
    "import pandas as pd; \n",
    "planilha1 = pd.read_excel('Horarios.xlsx', sheet_name='horario'); \n",
    "dados1 = planilha1.to_records(index=False)\n",
    "    \n",
    "planilha2 = pd.read_excel('Horarios.xlsx', sheet_name='carga')\n",
    "dados2 = planilha2.to_records(index=False)\n",
    "    \n",
    "planilha3 = pd.read_excel('Horarios.xlsx', sheet_name='dias-atividade')\n",
    "dados3 = planilha3.to_records(index=False)"
   ]
  },
  {
   "cell_type": "markdown",
   "metadata": {},
   "source": [
    "### Contexto modelado\n",
    "\n",
    "Nosso planejamento leva em conta os sete dias da semana, representados pelo conjunto $T$. Vamos considerar um conjunto de atividades $A$, divididos em um conjunto de disciplinas $D$ e um conjunto de atividades extras $E$ ($A = D \\cup E$ e $D \\cap E = \\varnothing$). Os dias correspondentes a cada atividade é determinado pelo conjunto $T_a \\subseteq T, a \\in A$. Além disso, a carga horária semanal de $a \\in A$ é dada por $w_a \\in \\mathbb{R}_+$. **Lembre-se:** a carga horária de uma disciplina $d \\in D$ corresponde às horas que serão dedicadas. Utilizamos também um conjunto de *slots* de tempo $S = \\{8, ..., 22\\}$. Desejamos determinar um plano de atividades semanais tal que:  \n",
    "\n",
    "* **Restrição 1**: as atividades pré-fixadas devem ter seus horários respeitados;  \n",
    "* **Restrição 2**: cada horário (*slot*) deve ser ocupado por uma atividade (garante que não haja sobreposição de horários);  \n",
    "* **Restrição 3**: a carga horária das atividades deve ser cumprida;  \n",
    "* **Restrição 4**: os sábados à partir das 18h devem ser dedicados ao **lazer**;    \n",
    "\n",
    "O objetivo de nosso modelo é obedecer todas as restrições e especificidades de nosso contexto, **maximizando** a carga horária de atividades de lazer! =)"
   ]
  },
  {
   "cell_type": "markdown",
   "metadata": {},
   "source": [
    "### Parâmatros (*inputs*)\n",
    "\n",
    "Façamos um resumo dos parâmetros necessários ao nosso modelo.  \n",
    "\n",
    "* $D$: conjunto de disciplinas;  \n",
    "* $E$: conjunto de atividades extras; \n",
    "* $A = D \\cup E$: conjunto de atividades;  \n",
    "* $\\tilde{A}$: conjunto de triplas $(\\overline{a},\\overline{t},\\overline{s})$ que correspondem a designações de atividades, hora e dia já pré-determinados;  \n",
    "* $T$: dias da semana;  \n",
    "* $S$: *slots* de tempo;  \n",
    "* $T_a$: dias em que a atividade $a \\in A$ deve ser realizada;  \n",
    "* $w_a$: carga horária da atividade $a \\in A$.  \n",
    "\n",
    "Em Python, a implementação desses dados é apresentada abaixo, utilizando as informações preenchidas pela planilha.  "
   ]
  },
  {
   "cell_type": "code",
   "execution_count": 406,
   "metadata": {},
   "outputs": [],
   "source": [
    "D = [x[0] for x in dados2 if 'D-' in x[0]]\n",
    "E = [x[0] for x in dados2 if 'D-' not in x[0]]\n",
    "E = E + ['Lazer'] # Acrescentando a atividade Lazer\n",
    "A = D + E\n",
    "T = [x for x in dados1[0] if x != 'Hora']\n",
    "S = [x[0] for x in dados1 if x[0] != 'Hora']\n",
    "\n",
    "# Criando um dicionário de atividade:carga horária\n",
    "w = { x[0]:x[1] for x in dados2 }\n",
    "\n",
    "# Criando a lista de dias fixos para cada atividades\n",
    "linhaDias = dados1[0]\n",
    "ativDiaHora = { a:[] for a in A } # Conjunto \\tilde{A}\n",
    "ativDia = { a:[] for a in A }\n",
    "diaAtivHora = { d:[] for d in linhaDias if d != 'Hora'}\n",
    "alimentacao = [] # Conjunto de dias e horários que iremos nos alimentar (pausa)\n",
    "for a in A:\n",
    "    for i in range(1,len(dados1)):\n",
    "        for j in range(len(dados1[i])):\n",
    "            if(a == dados1[i][j]):\n",
    "                ativDiaHora[a].append((linhaDias[j],dados1[i][0]))\n",
    "                \n",
    "                if(linhaDias[j] not in ativDia[a]):\n",
    "                    ativDia[a].append(linhaDias[j])\n",
    "                \n",
    "                diaAtivHora[linhaDias[j]].append((a,dados1[i][0]))\n",
    "                \n",
    "            elif((dados1[i][j] == 'Almoço' or dados1[i][j] == 'Janta')\n",
    "                 and ((linhaDias[j], dados1[i][0]) not in alimentacao)):\n",
    "                alimentacao.append((linhaDias[j], dados1[i][0]))\n",
    "                \n",
    "# Calculando as possibilidades de dias para cada atividade\n",
    "Ta = { a:[] for a in A }\n",
    "for x in dados3:\n",
    "    for y in x:\n",
    "        if(y in T):\n",
    "            Ta[x[0]].append(y)"
   ]
  },
  {
   "cell_type": "markdown",
   "metadata": {},
   "source": [
    "### Modelo Matemático\n",
    "\n",
    "Para modelar nosso problema matematicamente, utilizaremos a biblioteca PuLP do Python 3, declarada na sequência."
   ]
  },
  {
   "cell_type": "code",
   "execution_count": 407,
   "metadata": {},
   "outputs": [],
   "source": [
    "from pulp import *"
   ]
  },
  {
   "cell_type": "markdown",
   "metadata": {},
   "source": [
    "#### Variáveis de decisão\n",
    "\n",
    "Vamos definir o conjunto de variáveis binárias $x_{ast} \\in \\{0,1\\}$ igual a 1 se e somente a atividade $a \\in A$ for alocada no slot de tempo $s \\in S$, no dia $t \\in T$."
   ]
  },
  {
   "cell_type": "code",
   "execution_count": 408,
   "metadata": {},
   "outputs": [],
   "source": [
    "x = LpVariable.dicts(\"x\", (A, S, T), cat='Binary')"
   ]
  },
  {
   "cell_type": "markdown",
   "metadata": {},
   "source": [
    "#### Modelo matemático\n",
    "\n",
    "Criando o modelo de **maximização**."
   ]
  },
  {
   "cell_type": "code",
   "execution_count": 409,
   "metadata": {},
   "outputs": [],
   "source": [
    "modelo = LpProblem(\"Otimização de horários\", LpMaximize)"
   ]
  },
  {
   "cell_type": "markdown",
   "metadata": {},
   "source": [
    "#### Função objetivo\n",
    "\n",
    "Como cada *slot* de tempo é discretizado de hora em hora, nossa função objetivo consiste em maximizar a quantidade de horas que a variável $x$ relativa ao *lazer* aparece.\n",
    "\n",
    "\\begin{equation}\n",
    "\\max \\sum_{s \\in S}\\sum_{t \\in T}x_{\\overline{a}st}\n",
    "\\end{equation}\n",
    "\n",
    "em que $\\overline{a}$ = Lazer."
   ]
  },
  {
   "cell_type": "code",
   "execution_count": 410,
   "metadata": {},
   "outputs": [],
   "source": [
    "modelo += sum([x['Lazer'][s][t] for s in S for t in T])"
   ]
  },
  {
   "cell_type": "markdown",
   "metadata": {},
   "source": [
    "#### Restrições 1: fixação de atividades definidas *a priori*\n",
    "\n",
    "Seja a tripla $(\\overline{a}, \\overline{s}, \\overline{t}) \\in \\tilde{A}$ como uma tripla de atividade, horário e dia de uma atividade fixa pertencentes a um conjunto de designações feitas *a priori*. Assim, nossa restrição pode ser escrita da seguinte forma: \n",
    "\n",
    "\\begin{equation}\n",
    "x_{\\overline{a}\\,\\overline{s}\\,\\overline{t}} = 1, \\forall (\\overline{a},\\overline{s},\\overline{t}) \\in \\tilde{A}\n",
    "\\end{equation}"
   ]
  },
  {
   "cell_type": "code",
   "execution_count": 411,
   "metadata": {},
   "outputs": [],
   "source": [
    "for a in A:\n",
    "    for (t, s) in ativDiaHora[a]:\n",
    "        modelo += x[a][s][t] == 1\n",
    "        \n",
    "for a in alimentacao:\n",
    "    modelo += x['Alimentacao'][a[1]][a[0]] == 1"
   ]
  },
  {
   "cell_type": "markdown",
   "metadata": {},
   "source": [
    "#### Restrições 2: cada *slot* de tempo deve ser ocupado por alguma atividade\n",
    "\n",
    "\\begin{equation}\n",
    "\\sum_{a \\in A} x_{ast} = 1, \\forall s \\in S, \\forall t \\in T\n",
    "\\end{equation}"
   ]
  },
  {
   "cell_type": "code",
   "execution_count": 412,
   "metadata": {},
   "outputs": [],
   "source": [
    "for s in S:\n",
    "    for t in T:\n",
    "        modelo += sum([x[a][s][t] for a in A]) == 1"
   ]
  },
  {
   "cell_type": "markdown",
   "metadata": {},
   "source": [
    "#### Restrições 3: a carga horária de todas as atividades deve ser cumprida (a exceção do 'Lazer', que deve ser maximizado)\n",
    "\n",
    "\\begin{equation}\n",
    "\\sum_{s \\in S}\\sum_{t \\in T_a} x_{ast} = w_a, \\forall a \\in A \\backslash \\{\\mbox{'Lazer'}\\}\n",
    "\\end{equation}"
   ]
  },
  {
   "cell_type": "code",
   "execution_count": 413,
   "metadata": {},
   "outputs": [],
   "source": [
    "for a in A:\n",
    "    if(a != 'Lazer' and a != 'Alimentacao'):\n",
    "        modelo += sum([x[a][s][t] for s in S for t in Ta[a]]) == w[a]"
   ]
  },
  {
   "cell_type": "markdown",
   "metadata": {},
   "source": [
    "#### Restrições 4: os sábados à partir das 18h devem ser dedicados ao **lazer**\n",
    "\n",
    "\\begin{equation}\n",
    "x_{\\tilde{a}s\\tilde{t}} = 1, \\forall s \\in S, s \\ge 18, \\tilde{a} = \\mbox{'Lazer'}, \\tilde{t} = \\mbox{'Sab'}\n",
    "\\end{equation}"
   ]
  },
  {
   "cell_type": "code",
   "execution_count": 414,
   "metadata": {},
   "outputs": [],
   "source": [
    "for s in S:\n",
    "    if(s >= 18 and s <= 22):\n",
    "        modelo += x['Lazer'][s]['Sab'] == 1"
   ]
  },
  {
   "cell_type": "markdown",
   "metadata": {},
   "source": [
    "#### Resolvendo o modelo"
   ]
  },
  {
   "cell_type": "code",
   "execution_count": 415,
   "metadata": {},
   "outputs": [
    {
     "data": {
      "text/plain": [
       "1"
      ]
     },
     "execution_count": 415,
     "metadata": {},
     "output_type": "execute_result"
    }
   ],
   "source": [
    "modelo.solve()"
   ]
  },
  {
   "cell_type": "markdown",
   "metadata": {},
   "source": [
    "#### Status da solução encontrada"
   ]
  },
  {
   "cell_type": "code",
   "execution_count": 416,
   "metadata": {},
   "outputs": [
    {
     "name": "stdout",
     "output_type": "stream",
     "text": [
      "Status da resolução do modelo: Optimal\n"
     ]
    }
   ],
   "source": [
    "print(\"Status da resolução do modelo:\", LpStatus[modelo.status])"
   ]
  },
  {
   "cell_type": "markdown",
   "metadata": {},
   "source": [
    "#### Total de horas de lazer"
   ]
  },
  {
   "cell_type": "code",
   "execution_count": 417,
   "metadata": {},
   "outputs": [
    {
     "name": "stdout",
     "output_type": "stream",
     "text": [
      "Horas de Lazer =  33.0\n"
     ]
    }
   ],
   "source": [
    "print(\"Horas de Lazer = \", value(modelo.objective))"
   ]
  },
  {
   "cell_type": "markdown",
   "metadata": {},
   "source": [
    "#### Gerando sua planilha de horários"
   ]
  },
  {
   "cell_type": "code",
   "execution_count": 418,
   "metadata": {},
   "outputs": [],
   "source": [
    "# Create a Pandas dataframe from some data.\n",
    "\n",
    "Horarios = { (s,t):' ' for s in S for t in T }\n",
    "\n",
    "for a in A:\n",
    "    for s in S:\n",
    "        for t in T:\n",
    "            if(value(x[a][s][t]) >= 0.9):\n",
    "                Horarios[s,t] = a\n",
    "\n",
    "dicionarioHoras = { 'Horarios': S }\n",
    "dicionarioHoras1 = { t:[Horarios[s,t] for s in S] for t in T }\n",
    "\n",
    "z = {**dicionarioHoras, **dicionarioHoras1}\n",
    "df = pd.DataFrame(z)\n",
    "\n",
    "# Create a Pandas Excel writer using XlsxWriter as the engine.\n",
    "writer = pd.ExcelWriter('Resultado1.xlsx', engine='xlsxwriter')\n",
    "\n",
    "# Convert the dataframe to an XlsxWriter Excel object.\n",
    "df.to_excel(writer, sheet_name='Horários', index=False)\n",
    "\n",
    "# Close the Pandas Excel writer and output the Excel file.\n",
    "writer.save()"
   ]
  },
  {
   "cell_type": "markdown",
   "metadata": {},
   "source": [
    "### Novas restrições\n",
    "\n",
    "Vamos aprimorar a solução desse modelo matemático. Consideremos as seguintes restrições adicionais:\n",
    "\n",
    "* **Restrição 7**: as horas de estudo e de IC devem ser contínuas (sequenciais)."
   ]
  },
  {
   "cell_type": "markdown",
   "metadata": {},
   "source": [
    "#### Restrições 7: as horas de estudo e de IC devem ser contínuas (sequenciais)\n",
    "\n",
    "\\begin{equation}\n",
    "x_{ast} \\le x_{a,s-1,t} + x_{a,s+1,t}, \\forall a \\in D \\cup \\{\\mbox{'IC'}\\}, \\forall s \\in S\\backslash\\{\\mbox{'8','22'}\\}, \\forall t \\in T_a\n",
    "\\end{equation}\n",
    "\n",
    "\\begin{equation}\n",
    "x_{a,22,t} = x_{a,21,t}, \\forall a \\in D, \\forall t \\in T_a\n",
    "\\end{equation}\n",
    "\n",
    "\\begin{equation}\n",
    "x_{a,7,t} = x_{a,8,t}, \\forall a \\in D, \\forall t \\in T_a\n",
    "\\end{equation}"
   ]
  },
  {
   "cell_type": "code",
   "execution_count": 419,
   "metadata": {},
   "outputs": [],
   "source": [
    "for a in A:\n",
    "    if(a != 'Alimentacao' and a != 'Lazer' and a != 'Esporte'):\n",
    "        for t in Ta[a]:\n",
    "            for s in S:\n",
    "                if(s != 8 and s != 22):\n",
    "                    if((t, s) not in ativDiaHora[a] and (t, s-1) not in ativDiaHora[a] and (t, s+1) not in ativDiaHora[a]):\n",
    "                        modelo += x[a][s][t] <= x[a][s-1][t] + x[a][s+1][t]\n",
    "\n",
    "                    elif((t, s) not in ativDiaHora[a] and (t, s-1) not in ativDiaHora[a]):\n",
    "                        modelo += x[a][s][t] == x[a][s-1][t]\n",
    "\n",
    "                    elif((t, s) not in ativDiaHora[a] and (t, s+1) not in ativDiaHora[a]):\n",
    "                        modelo += x[a][s][t] == x[a][s+1][t]\n",
    "\n",
    "            modelo += x[a][22][t] == x[a][21][t]\n",
    "            modelo += x[a][8][t] == x[a][9][t]"
   ]
  },
  {
   "cell_type": "markdown",
   "metadata": {},
   "source": [
    "#### Resolvendo o modelo"
   ]
  },
  {
   "cell_type": "code",
   "execution_count": 420,
   "metadata": {},
   "outputs": [
    {
     "data": {
      "text/plain": [
       "1"
      ]
     },
     "execution_count": 420,
     "metadata": {},
     "output_type": "execute_result"
    }
   ],
   "source": [
    "modelo.solve()"
   ]
  },
  {
   "cell_type": "markdown",
   "metadata": {},
   "source": [
    "#### Status da solução encontrada"
   ]
  },
  {
   "cell_type": "code",
   "execution_count": 421,
   "metadata": {},
   "outputs": [
    {
     "name": "stdout",
     "output_type": "stream",
     "text": [
      "Status da resolução do modelo: Optimal\n"
     ]
    }
   ],
   "source": [
    "print(\"Status da resolução do modelo:\", LpStatus[modelo.status])"
   ]
  },
  {
   "cell_type": "markdown",
   "metadata": {},
   "source": [
    "#### Total de horas de lazer"
   ]
  },
  {
   "cell_type": "code",
   "execution_count": 422,
   "metadata": {},
   "outputs": [
    {
     "name": "stdout",
     "output_type": "stream",
     "text": [
      "Horas de Lazer =  33.0\n"
     ]
    }
   ],
   "source": [
    "print(\"Horas de Lazer = \", value(modelo.objective))"
   ]
  },
  {
   "cell_type": "markdown",
   "metadata": {},
   "source": [
    "#### Gerando sua planilha de horários"
   ]
  },
  {
   "cell_type": "code",
   "execution_count": 423,
   "metadata": {},
   "outputs": [],
   "source": [
    "# Create a Pandas dataframe from some data.\n",
    "\n",
    "Horarios = { (s,t):' ' for s in S for t in T }\n",
    "\n",
    "for a in A:\n",
    "    for s in S:\n",
    "        for t in T:\n",
    "            if(value(x[a][s][t]) >= 0.9):\n",
    "                Horarios[s,t] = a\n",
    "\n",
    "dicionarioHoras = { 'Horarios': S }\n",
    "dicionarioHoras1 = { t:[Horarios[s,t] for s in S] for t in T }\n",
    "\n",
    "z = {**dicionarioHoras, **dicionarioHoras1}\n",
    "df = pd.DataFrame(z)\n",
    "\n",
    "# Create a Pandas Excel writer using XlsxWriter as the engine.\n",
    "writer = pd.ExcelWriter('Resultado2.xlsx', engine='xlsxwriter')\n",
    "\n",
    "# Convert the dataframe to an XlsxWriter Excel object.\n",
    "df.to_excel(writer, sheet_name='Horários', index=False)\n",
    "\n",
    "# Close the Pandas Excel writer and output the Excel file.\n",
    "writer.save()\n"
   ]
  },
  {
   "cell_type": "markdown",
   "metadata": {},
   "source": [
    "### Novas restrições - Versão 2\n",
    "\n",
    "Aprimorando ainda mais a solução desse modelo.\n",
    "\n",
    "* **Restrição 8**: no máximo duas disciplinas serão estudadas por dia. Para tanto, vamos definir a variável binária $y_{at}$ igual a 1 se a disciplina $a \\in D$ aparece em algum momento do dia $t$. Através de uma função suficientemente grande $\\mathcal{M}$, temos:\n",
    "\n",
    "\\begin{equation}\n",
    "\\sum_{s \\in S} x_{ast} \\le |S|y_{at} \\qquad \\forall a \\in D, \\forall t \\in T_a\\backslash\\{\\mbox{'Sab','Dom'}\\}\n",
    "\\end{equation}\n",
    "\n",
    "\\begin{equation}\n",
    "\\sum_{a \\in D}y_{at} \\le 2 \\qquad \\forall t \\in T\\backslash\\{\\mbox{'Sab','Dom'}\\}\n",
    "\\end{equation}"
   ]
  },
  {
   "cell_type": "code",
   "execution_count": 424,
   "metadata": {},
   "outputs": [],
   "source": [
    "y = LpVariable.dicts(\"y\", (D, T), cat='Binary')\n",
    "for a in D:\n",
    "    for t in Ta[a]:\n",
    "        if(t != 'Sab' and t != 'Dom'):\n",
    "            modelo += sum([x[a][s][t] for s in S]) <= len(S)*y[a][t]\n",
    "            \n",
    "for t in T:\n",
    "    if(t != 'Sab' and t != 'Dom'):\n",
    "        modelo += sum([y[a][t] for a in D]) <= 2"
   ]
  },
  {
   "cell_type": "markdown",
   "metadata": {},
   "source": [
    "#### Resolvendo o modelo"
   ]
  },
  {
   "cell_type": "code",
   "execution_count": 425,
   "metadata": {},
   "outputs": [
    {
     "data": {
      "text/plain": [
       "1"
      ]
     },
     "execution_count": 425,
     "metadata": {},
     "output_type": "execute_result"
    }
   ],
   "source": [
    "modelo.solve()"
   ]
  },
  {
   "cell_type": "markdown",
   "metadata": {},
   "source": [
    "#### Status da solução encontrada"
   ]
  },
  {
   "cell_type": "code",
   "execution_count": 426,
   "metadata": {},
   "outputs": [
    {
     "name": "stdout",
     "output_type": "stream",
     "text": [
      "Status da resolução do modelo: Optimal\n"
     ]
    }
   ],
   "source": [
    "print(\"Status da resolução do modelo:\", LpStatus[modelo.status])"
   ]
  },
  {
   "cell_type": "markdown",
   "metadata": {},
   "source": [
    "#### Total de horas de lazer"
   ]
  },
  {
   "cell_type": "code",
   "execution_count": 427,
   "metadata": {},
   "outputs": [
    {
     "name": "stdout",
     "output_type": "stream",
     "text": [
      "Horas de Lazer =  33.0\n"
     ]
    }
   ],
   "source": [
    "print(\"Horas de Lazer = \", value(modelo.objective))"
   ]
  },
  {
   "cell_type": "markdown",
   "metadata": {},
   "source": [
    "#### Gerando sua planilha de horários"
   ]
  },
  {
   "cell_type": "code",
   "execution_count": 428,
   "metadata": {},
   "outputs": [],
   "source": [
    "# Create a Pandas dataframe from some data.\n",
    "\n",
    "Horarios = { (s,t):' ' for s in S for t in T }\n",
    "\n",
    "for a in A:\n",
    "    for s in S:\n",
    "        for t in T:\n",
    "            if(value(x[a][s][t]) >= 0.9):\n",
    "                Horarios[s,t] = a\n",
    "\n",
    "dicionarioHoras = { 'Horarios': S }\n",
    "dicionarioHoras1 = { t:[Horarios[s,t] for s in S] for t in T }\n",
    "\n",
    "z = {**dicionarioHoras, **dicionarioHoras1}\n",
    "df = pd.DataFrame(z)\n",
    "\n",
    "# Create a Pandas Excel writer using XlsxWriter as the engine.\n",
    "writer = pd.ExcelWriter('Resultado3.xlsx', engine='xlsxwriter')\n",
    "\n",
    "# Convert the dataframe to an XlsxWriter Excel object.\n",
    "df.to_excel(writer, sheet_name='Horários', index=False)\n",
    "\n",
    "# Close the Pandas Excel writer and output the Excel file.\n",
    "writer.save()"
   ]
  },
  {
   "cell_type": "markdown",
   "metadata": {},
   "source": [
    "#### Enjoy it! =)"
   ]
  },
  {
   "cell_type": "code",
   "execution_count": null,
   "metadata": {},
   "outputs": [],
   "source": []
  }
 ],
 "metadata": {
  "kernelspec": {
   "display_name": "Python 3",
   "language": "python",
   "name": "python3"
  },
  "language_info": {
   "codemirror_mode": {
    "name": "ipython",
    "version": 3
   },
   "file_extension": ".py",
   "mimetype": "text/x-python",
   "name": "python",
   "nbconvert_exporter": "python",
   "pygments_lexer": "ipython3",
   "version": "3.8.1"
  }
 },
 "nbformat": 4,
 "nbformat_minor": 2
}
